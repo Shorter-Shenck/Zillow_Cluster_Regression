{
 "cells": [
  {
   "cell_type": "markdown",
   "metadata": {},
   "source": [
    "# Introducution"
   ]
  },
  {
   "cell_type": "markdown",
   "metadata": {},
   "source": [
    "* Hello, my name is Shorter\n",
    "* This is my project detailing the process undertaken to predict home values using 2017 Zillow home information"
   ]
  },
  {
   "cell_type": "markdown",
   "metadata": {},
   "source": [
    "## Project Objective \n",
    "> Document code, process data (through entire pipeline), and articulate key findings and takeways in a jupyter notebook final report \n",
    "* Create modules that faciliate project repeatability, as well as final report readability\n",
    "> Ask/Answer exploratory questions of data and attributes to understand drivers of home value  \n",
    "* Utilize charts and statistical tests\n",
    "> Construct models to predict logerror for single family properties using regression techniques\n",
    "> Make recommendations\n",
    "\n",
    "## Project Business Goals\n",
    "> Construct ML Regression model that accurately predicts Log Error (Log Error = Log(Zestimate) - Log(SalePrice)) of *Single Family Properties* using attributes of the properties? </br>\n",
    "> Find key drivers of log error</br>\n",
    "> Deliver report that the data science team can read through and replicate, while understanding what steps were taken, why and what the outcome was.\n",
    "> Make recommendations on what works or doesn't work in predicting LogError"
   ]
  },
  {
   "cell_type": "markdown",
   "metadata": {},
   "source": [
    "### Executive Summary\n",
    "* Large numbers of homes in LA County fit the profile for lower value homes:\n",
    "    - Smaller, older, less rooms, and higher taxes\n",
    "* Need much more robust feature set for modeling"
   ]
  },
  {
   "cell_type": "markdown",
   "metadata": {},
   "source": [
    "# Import Section"
   ]
  },
  {
   "cell_type": "code",
   "execution_count": 1,
   "metadata": {},
   "outputs": [],
   "source": [
    "#### Import Section\n",
    "import pandas as pd\n",
    "import numpy as np\n",
    "import seaborn as sns\n",
    "import matplotlib.pyplot as plt\n",
    "import matplotlib.patches as patches\n",
    "import wrangle_zillow\n",
    "import explore_zillow\n",
    "\n",
    "from itertools import product\n",
    "from scipy.stats import levene , pearsonr, spearmanr, mannwhitneyu, f_oneway, ttest_ind\n",
    "from sklearn.metrics import mean_squared_error, explained_variance_score\n",
    "from sklearn.model_selection import train_test_split\n",
    "from sklearn.linear_model import LinearRegression, TweedieRegressor, LassoLars\n",
    "from sklearn.preprocessing import PolynomialFeatures\n",
    "from sklearn.feature_selection import RFE, f_regression, SelectKBest\n",
    "\n",
    "import warnings\n",
    "warnings.filterwarnings(\"ignore\")\n"
   ]
  },
  {
   "cell_type": "markdown",
   "metadata": {},
   "source": [
    "> - ## Acquire\n",
    "> - If no matching csv found, sql query a custom search, returning a dataframe that is then cleaned (dropping columns and replacing NaNs with 0 where applicable), feature engineered (clusters and domain knowledge), split (56%,24%,20%) with those scaled (MinMax)"
   ]
  },
  {
   "cell_type": "code",
   "execution_count": 2,
   "metadata": {},
   "outputs": [
    {
     "name": "stdout",
     "output_type": "stream",
     "text": [
      "(28971, 22) (12417, 22) (10348, 22)\n",
      "-----\n",
      "DataFrame info:\n",
      "\n",
      "<class 'pandas.core.frame.DataFrame'>\n",
      "Int64Index: 51736 entries, 1727539 to 1187175\n",
      "Data columns (total 22 columns):\n",
      " #   Column                      Non-Null Count  Dtype   \n",
      "---  ------                      --------------  -----   \n",
      " 0   basementsqft                51736 non-null  float64 \n",
      " 1   bathrooms                   51736 non-null  float64 \n",
      " 2   bedrooms                    51736 non-null  float64 \n",
      " 3   area                        51736 non-null  float64 \n",
      " 4   county                      51736 non-null  object  \n",
      " 5   garagecarcnt                51736 non-null  float64 \n",
      " 6   garagetotalsqft             51736 non-null  float64 \n",
      " 7   latitude                    51736 non-null  float64 \n",
      " 8   longitude                   51736 non-null  float64 \n",
      " 9   lotsizesquarefeet           51736 non-null  float64 \n",
      " 10  poolcnt                     51736 non-null  float64 \n",
      " 11  structuretaxvaluedollarcnt  51736 non-null  float64 \n",
      " 12  home_value                  51736 non-null  float64 \n",
      " 13  landtaxvaluedollarcnt       51736 non-null  float64 \n",
      " 14  logerror                    51736 non-null  float64 \n",
      " 15  aircon                      51736 non-null  object  \n",
      " 16  heating                     51736 non-null  object  \n",
      " 17  age                         51736 non-null  float64 \n",
      " 18  openness                    51736 non-null  float64 \n",
      " 19  tax_per_sqft                51736 non-null  float64 \n",
      " 20  home_size                   51736 non-null  category\n",
      " 21  est_tax_rate                51736 non-null  float64 \n",
      "dtypes: category(1), float64(18), object(3)\n",
      "memory usage: 8.7+ MB\n",
      "None\n",
      "---\n",
      "DataFrame describe:\n",
      "\n",
      "       basementsqft     bathrooms      bedrooms          area  garagecarcnt  \\\n",
      "count  51736.000000  51736.000000  51736.000000  51736.000000  51736.000000   \n",
      "mean       0.616824      2.299018      3.307098   1918.913349      0.675294   \n",
      "std       29.478198      1.009984      0.931425    994.228663      0.982383   \n",
      "min        0.000000      0.000000      0.000000    152.000000      0.000000   \n",
      "25%        0.000000      2.000000      3.000000   1268.000000      0.000000   \n",
      "50%        0.000000      2.000000      3.000000   1657.000000      0.000000   \n",
      "75%        0.000000      3.000000      4.000000   2301.000000      2.000000   \n",
      "max     3560.000000     13.000000     11.000000  21929.000000     14.000000   \n",
      "\n",
      "       garagetotalsqft      latitude     longitude  lotsizesquarefeet  \\\n",
      "count     51736.000000  5.173600e+04  5.173600e+04       5.173600e+04   \n",
      "mean        171.828591  3.402185e+07 -1.181935e+08       1.121396e+04   \n",
      "std         253.462264  2.737223e+05  3.567770e+05       8.669737e+04   \n",
      "min           0.000000  3.334085e+07 -1.194754e+08       2.360000e+02   \n",
      "25%           0.000000  3.382654e+07 -1.183998e+08       5.581000e+03   \n",
      "50%           0.000000  3.402162e+07 -1.181519e+08       6.837000e+03   \n",
      "75%         432.000000  3.418688e+07 -1.179288e+08       8.775000e+03   \n",
      "max        4251.000000  3.481877e+07 -1.175546e+08       6.971010e+06   \n",
      "\n",
      "            poolcnt  structuretaxvaluedollarcnt    home_value  \\\n",
      "count  51736.000000                5.173600e+04  5.173600e+04   \n",
      "mean       0.212405                1.948265e+05  5.243006e+05   \n",
      "std        0.409014                2.507699e+05  7.109716e+05   \n",
      "min        0.000000                1.480000e+02  3.254000e+03   \n",
      "25%        0.000000                7.707000e+04  1.936448e+05   \n",
      "50%        0.000000                1.314265e+05  3.727910e+05   \n",
      "75%        0.000000                2.247025e+05  6.157250e+05   \n",
      "max        1.000000                9.164901e+06  2.538125e+07   \n",
      "\n",
      "       landtaxvaluedollarcnt      logerror           age      openness  \\\n",
      "count           5.173600e+04  51736.000000  51736.000000  51736.000000   \n",
      "mean            3.294741e+05      0.018158     58.681750    334.883808   \n",
      "std             5.187672e+05      0.175406     22.954315     91.017382   \n",
      "min             1.610000e+02     -4.655420      6.000000     21.714286   \n",
      "25%             7.565900e+04     -0.024570     43.000000    271.000000   \n",
      "50%             2.176990e+05      0.006912     62.000000    317.714286   \n",
      "75%             4.073015e+05      0.040462     72.000000    379.750000   \n",
      "max             2.233550e+07      5.262999    144.000000   2438.500000   \n",
      "\n",
      "       tax_per_sqft  est_tax_rate  \n",
      "count  51736.000000  51736.000000  \n",
      "mean      90.626743      0.013335  \n",
      "std       60.224115      0.005621  \n",
      "min        0.039833      0.000094  \n",
      "25%       54.827845      0.011634  \n",
      "50%       82.024732      0.012325  \n",
      "75%      113.280938      0.013676  \n",
      "max     1682.457143      0.493647  \n",
      "---\n",
      "DataFrame null value asssessment:\n",
      "\n",
      "Nulls By Column:                             num_rows_missing  percent_rows_missing\n",
      "basementsqft                               0                   0.0\n",
      "bathrooms                                  0                   0.0\n",
      "bedrooms                                   0                   0.0\n",
      "area                                       0                   0.0\n",
      "county                                     0                   0.0\n",
      "garagecarcnt                               0                   0.0\n",
      "garagetotalsqft                            0                   0.0\n",
      "latitude                                   0                   0.0\n",
      "longitude                                  0                   0.0\n",
      "lotsizesquarefeet                          0                   0.0\n",
      "poolcnt                                    0                   0.0\n",
      "structuretaxvaluedollarcnt                 0                   0.0\n",
      "home_value                                 0                   0.0\n",
      "landtaxvaluedollarcnt                      0                   0.0\n",
      "logerror                                   0                   0.0\n",
      "aircon                                     0                   0.0\n",
      "heating                                    0                   0.0\n",
      "age                                        0                   0.0\n",
      "openness                                   0                   0.0\n",
      "tax_per_sqft                               0                   0.0\n",
      "home_size                                  0                   0.0\n",
      "est_tax_rate                               0                   0.0\n",
      "----\n",
      "Nulls By Row:    num_cols_missing  percent_cols_missing     id\n",
      "0                 0                   0.0  51736\n",
      "value_counts: \n",
      "\n",
      "Column Names: basementsqft\n",
      "(-3.561, 356.0]     51707\n",
      "(356.0, 712.0]         15\n",
      "(712.0, 1068.0]         7\n",
      "(1068.0, 1424.0]        3\n",
      "(1424.0, 1780.0]        0\n",
      "(1780.0, 2136.0]        2\n",
      "(2136.0, 2492.0]        0\n",
      "(2492.0, 2848.0]        0\n",
      "(2848.0, 3204.0]        1\n",
      "(3204.0, 3560.0]        1\n",
      "Name: basementsqft, dtype: int64\n",
      "---\n",
      "Column Names: bathrooms\n",
      "(-0.013999999999999999, 1.3]     9460\n",
      "(1.3, 2.6]                      26496\n",
      "(2.6, 3.9]                      11432\n",
      "(3.9, 5.2]                       3600\n",
      "(5.2, 6.5]                        571\n",
      "(6.5, 7.8]                        103\n",
      "(7.8, 9.1]                         65\n",
      "(9.1, 10.4]                         5\n",
      "(10.4, 11.7]                        3\n",
      "(11.7, 13.0]                        1\n",
      "Name: bathrooms, dtype: int64\n",
      "---\n",
      "Column Names: bedrooms\n",
      "(-0.012, 1.1]      603\n",
      "(1.1, 2.2]        8226\n",
      "(2.2, 3.3]       23173\n",
      "(3.3, 4.4]       15065\n",
      "(4.4, 5.5]        3908\n",
      "(5.5, 6.6]         625\n",
      "(6.6, 7.7]         102\n",
      "(7.7, 8.8]          23\n",
      "(8.8, 9.9]           8\n",
      "(9.9, 11.0]          3\n",
      "Name: bedrooms, dtype: int64\n",
      "---\n",
      "Column Names: area\n",
      "(130.222, 2329.7]     39199\n",
      "(2329.7, 4507.4]      11377\n",
      "(4507.4, 6685.1]        950\n",
      "(6685.1, 8862.8]        154\n",
      "(8862.8, 11040.5]        39\n",
      "(11040.5, 13218.2]       12\n",
      "(13218.2, 15395.9]        1\n",
      "(15395.9, 17573.6]        2\n",
      "(17573.6, 19751.3]        0\n",
      "(19751.3, 21929.0]        2\n",
      "Name: area, dtype: int64\n",
      "---\n",
      "Column Names: county\n",
      "LA County         33393\n",
      "Orange County     13999\n",
      "Ventura County     4344\n",
      "Name: county, dtype: int64\n",
      "Column Names: garagecarcnt\n",
      "(-0.015, 1.4]    36045\n",
      "(1.4, 2.8]       14752\n",
      "(2.8, 4.2]         869\n",
      "(4.2, 5.6]          45\n",
      "(5.6, 7.0]          15\n",
      "(7.0, 8.4]           2\n",
      "(8.4, 9.8]           2\n",
      "(9.8, 11.2]          4\n",
      "(11.2, 12.6]         0\n",
      "(12.6, 14.0]         2\n",
      "Name: garagecarcnt, dtype: int64\n",
      "---\n",
      "Column Names: garagetotalsqft\n",
      "(-4.252000000000001, 425.1]    38228\n",
      "(425.1, 850.2]                 13134\n",
      "(850.2, 1275.3]                  321\n",
      "(1275.3, 1700.4]                  37\n",
      "(1700.4, 2125.5]                   6\n",
      "(2125.5, 2550.6]                   2\n",
      "(2550.6, 2975.7]                   4\n",
      "(2975.7, 3400.8]                   2\n",
      "(3400.8, 3825.9]                   1\n",
      "(3825.9, 4251.0]                   1\n",
      "Name: garagetotalsqft, dtype: int64\n",
      "---\n",
      "Column Names: latitude\n",
      "(33339373.083, 33488642.6]      751\n",
      "(33488642.6, 33636434.2]       3180\n",
      "(33636434.2, 33784225.8]       6034\n",
      "(33784225.8, 33932017.4]      10873\n",
      "(33932017.4, 34079809.0]       8927\n",
      "(34079809.0, 34227600.6]      12266\n",
      "(34227600.6, 34375392.2]       4565\n",
      "(34375392.2, 34523183.8]       1748\n",
      "(34523183.8, 34670975.4]       2173\n",
      "(34670975.4, 34818767.0]       1219\n",
      "Name: latitude, dtype: int64\n",
      "---\n",
      "Column Names: longitude\n",
      "(-119477336.781, -119283338.0]      159\n",
      "(-119283338.0, -119091260.0]       1285\n",
      "(-119091260.0, -118899182.0]       1050\n",
      "(-118899182.0, -118707104.0]       1768\n",
      "(-118707104.0, -118515026.0]       3777\n",
      "(-118515026.0, -118322948.0]       9164\n",
      "(-118322948.0, -118130870.0]       9918\n",
      "(-118130870.0, -117938792.0]      11135\n",
      "(-117938792.0, -117746714.0]       9051\n",
      "(-117746714.0, -117554636.0]       4429\n",
      "Name: longitude, dtype: int64\n",
      "---\n",
      "Column Names: lotsizesquarefeet\n",
      "(-6734.775000000001, 697313.4]    51717\n",
      "(697313.4, 1394390.8]                 8\n",
      "(1394390.8, 2091468.2]                2\n",
      "(2091468.2, 2788545.6]                1\n",
      "(2788545.6, 3485623.0]                1\n",
      "(3485623.0, 4182700.4]                0\n",
      "(4182700.4, 4879777.8]                0\n",
      "(4879777.8, 5576855.2]                0\n",
      "(5576855.2, 6273932.6]                0\n",
      "(6273932.6, 6971010.0]                7\n",
      "Name: lotsizesquarefeet, dtype: int64\n",
      "---\n",
      "Column Names: poolcnt\n",
      "(-0.002, 0.1]    40747\n",
      "(0.1, 0.2]           0\n",
      "(0.2, 0.3]           0\n",
      "(0.3, 0.4]           0\n",
      "(0.4, 0.5]           0\n",
      "(0.5, 0.6]           0\n",
      "(0.6, 0.7]           0\n",
      "(0.7, 0.8]           0\n",
      "(0.8, 0.9]           0\n",
      "(0.9, 1.0]       10989\n",
      "Name: poolcnt, dtype: int64\n",
      "---\n",
      "Column Names: structuretaxvaluedollarcnt\n",
      "(-9016.754, 916623.3]     50851\n",
      "(916623.3, 1833098.6]       732\n",
      "(1833098.6, 2749573.9]       95\n",
      "(2749573.9, 3666049.2]       35\n",
      "(3666049.2, 4582524.5]        8\n",
      "(4582524.5, 5498999.8]        7\n",
      "(5498999.8, 6415475.1]        2\n",
      "(6415475.1, 7331950.4]        1\n",
      "(7331950.4, 8248425.7]        4\n",
      "(8248425.7, 9164901.0]        1\n",
      "Name: structuretaxvaluedollarcnt, dtype: int64\n",
      "---\n",
      "Column Names: home_value\n",
      "(-22123.997, 2541053.6]     50921\n",
      "(2541053.6, 5078853.2]        633\n",
      "(5078853.2, 7616652.8]        122\n",
      "(7616652.8, 10154452.4]        33\n",
      "(10154452.4, 12692252.0]       10\n",
      "(12692252.0, 15230051.6]        5\n",
      "(15230051.6, 17767851.2]        5\n",
      "(17767851.2, 20305650.8]        3\n",
      "(20305650.8, 22843450.4]        1\n",
      "(22843450.4, 25381250.0]        3\n",
      "Name: home_value, dtype: int64\n",
      "---\n",
      "Column Names: landtaxvaluedollarcnt\n",
      "(-22174.34, 2233694.9]      51276\n",
      "(2233694.9, 4467228.8]        337\n",
      "(4467228.8, 6700762.7]         87\n",
      "(6700762.7, 8934296.6]         15\n",
      "(8934296.6, 11167830.5]        11\n",
      "(11167830.5, 13401364.4]        4\n",
      "(13401364.4, 15634898.3]        2\n",
      "(15634898.3, 17868432.2]        1\n",
      "(17868432.2, 20101966.1]        2\n",
      "(20101966.1, 22335500.0]        1\n",
      "Name: landtaxvaluedollarcnt, dtype: int64\n",
      "---\n",
      "Column Names: logerror\n",
      "(-4.666, -3.664]        2\n",
      "(-3.664, -2.672]        0\n",
      "(-2.672, -1.68]        26\n",
      "(-1.68, -0.688]       102\n",
      "(-0.688, 0.304]     50279\n",
      "(0.304, 1.296]       1199\n",
      "(1.296, 2.287]         74\n",
      "(2.287, 3.279]         52\n",
      "(3.279, 4.271]          1\n",
      "(4.271, 5.263]          1\n",
      "Name: logerror, dtype: int64\n",
      "---\n",
      "Column Names: aircon\n",
      "Other      39940\n",
      "Central    11640\n",
      "None         156\n",
      "Name: aircon, dtype: int64\n",
      "Column Names: heating\n",
      "Central       20407\n",
      "None          18302\n",
      "Floor/Wall    12438\n",
      "Other           589\n",
      "Name: heating, dtype: int64\n",
      "Column Names: age\n",
      "(5.861, 19.8]      2865\n",
      "(19.8, 33.6]       5908\n",
      "(33.6, 47.4]       6917\n",
      "(47.4, 61.2]      10162\n",
      "(61.2, 75.0]      16818\n",
      "(75.0, 88.8]       3852\n",
      "(88.8, 102.6]      4027\n",
      "(102.6, 116.4]     1001\n",
      "(116.4, 130.2]      165\n",
      "(130.2, 144.0]       21\n",
      "Name: age, dtype: int64\n",
      "---\n",
      "Column Names: openness\n",
      "(19.296999999999997, 263.393]    10828\n",
      "(263.393, 505.071]               38520\n",
      "(505.071, 746.75]                 2259\n",
      "(746.75, 988.429]                  102\n",
      "(988.429, 1230.107]                 18\n",
      "(1230.107, 1471.786]                 5\n",
      "(1471.786, 1713.464]                 2\n",
      "(1713.464, 1955.143]                 1\n",
      "(1955.143, 2196.821]                 0\n",
      "(2196.821, 2438.5]                   1\n",
      "Name: openness, dtype: int64\n",
      "---\n",
      "Column Names: tax_per_sqft\n",
      "(-1.644, 168.282]       48394\n",
      "(168.282, 336.523]       3014\n",
      "(336.523, 504.765]        230\n",
      "(504.765, 673.007]         54\n",
      "(673.007, 841.248]         18\n",
      "(841.248, 1009.49]         14\n",
      "(1009.49, 1177.732]         3\n",
      "(1177.732, 1345.974]        6\n",
      "(1345.974, 1514.215]        2\n",
      "(1514.215, 1682.457]        1\n",
      "Name: tax_per_sqft, dtype: int64\n",
      "---\n",
      "Column Names: home_size\n",
      "medium    25943\n",
      "small     12946\n",
      "large     12847\n",
      "Name: home_size, dtype: int64\n",
      "Column Names: est_tax_rate\n",
      "(-0.0014, 0.0494]    51649\n",
      "(0.0494, 0.0988]        62\n",
      "(0.0988, 0.148]         17\n",
      "(0.148, 0.198]           2\n",
      "(0.198, 0.247]           1\n",
      "(0.247, 0.296]           2\n",
      "(0.296, 0.346]           1\n",
      "(0.346, 0.395]           0\n",
      "(0.395, 0.444]           0\n",
      "(0.444, 0.494]           2\n",
      "Name: est_tax_rate, dtype: int64\n",
      "---\n",
      "Report Finished\n"
     ]
    }
   ],
   "source": [
    "#calling prepare/acquire functions from module to acruire data subsets\n",
    "df, train, validate, test, train_scaled, validate_scaled, test_scaled = wrangle_zillow.wrangle_zillow()\n"
   ]
  },
  {
   "cell_type": "markdown",
   "metadata": {},
   "source": [
    "## Exploration Questions with plots and tests"
   ]
  },
  {
   "cell_type": "markdown",
   "metadata": {},
   "source": [
    "### Initial Guidance"
   ]
  },
  {
   "cell_type": "markdown",
   "metadata": {},
   "source": [
    "function to return heatmap to help direct initial questions"
   ]
  },
  {
   "cell_type": "code",
   "execution_count": 3,
   "metadata": {},
   "outputs": [
    {
     "data": {
      "image/png": "[encoded data removed]",
      "text/plain": [
       "<Figure size 1296x864 with 2 Axes>"
      ]
     },
     "metadata": {
      "needs_background": "light"
     },
     "output_type": "display_data"
    }
   ],
   "source": [
    "explore_zillow.explore_inital_guidance(train)"
   ]
  },
  {
   "cell_type": "markdown",
   "metadata": {},
   "source": [
    "No strong relationships are sticking out, Area being the strongest candidate"
   ]
  },
  {
   "cell_type": "markdown",
   "metadata": {},
   "source": [
    "> ### Question 1 -  Does logerror and Area(sqft) have a signifcant relationship\n",
    "> ${H_0}$: There is not a significant relationship in LogError and Area \n",
    "> ${H_a}$: There is a significant relationship in LogError and Area   \n",
    "> ${\\alpha}$: .05\n",
    "\n",
    "> Result: There is enough evidence to reject our null hypothesis. **Test code below**"
   ]
  },
  {
   "cell_type": "code",
   "execution_count": 4,
   "metadata": {},
   "outputs": [
    {
     "name": "stdout",
     "output_type": "stream",
     "text": [
      "Results of SpearmanR (r = 0.081|p = 0.0\n"
     ]
    },
    {
     "data": {
      "image/png": "[encoded data removed]",
      "text/plain": [
       "<Figure size 864x432 with 1 Axes>"
      ]
     },
     "metadata": {
      "needs_background": "light"
     },
     "output_type": "display_data"
    }
   ],
   "source": [
    "## assigns two variables to be used in the scatterplot, which has a polyline(1) plotted over it,\n",
    "## Also runs a SpearmanR correlation test and returns the values\n",
    "col1,target = \"area\", \"logerror\"\n",
    "plt.figure(figsize=(12, 6))\n",
    "x,y = train[col1], train[target]\n",
    "r, p = spearmanr(x,y)\n",
    "plt.plot(x, y, \"o\",color=\"grey\")\n",
    "m,b = np.polyfit(x,y,1)\n",
    "print(f\"Results of SpearmanR (r = {round(r,3)}|p = {round(p,3)}\")\n",
    "plt.plot(x,m*x+b,label=f\"Fit line - f(x)={round(m,3)}x+{round(b,0)})\")\n",
    "plt.xlabel(col1), plt.ylabel(target)\n",
    "plt.legend(), plt.title(f\"{target} value by {col1} value\")\n",
    "plt.show()"
   ]
  },
  {
   "cell_type": "markdown",
   "metadata": {},
   "source": [
    "> - #### Q1 takeway:\n",
    "> - Due to having a p value less than our alpha we were able to determine that there is a relationshiop that we can utilize in our modeling"
   ]
  },
  {
   "cell_type": "markdown",
   "metadata": {},
   "source": [
    "### Question 2 - Is there a difference in the the sample of no Heating for Log Error?\n",
    "${H_0}$: There is no significant difference in mean LogError of the sample No Heating compared to the population  \n",
    "${H_a}$: There is significant difference in mean LogError of the sample No Heating compared to the population  \n",
    "${\\alpha}$: .05\n",
    "\n",
    "> Result: There is enough evidence to reject our null hypothesis. **Test code below**"
   ]
  },
  {
   "cell_type": "markdown",
   "metadata": {},
   "source": [
    "function from module runs a tailored ttest and plots the feature for this question"
   ]
  },
  {
   "cell_type": "code",
   "execution_count": 5,
   "metadata": {},
   "outputs": [
    {
     "data": {
      "text/plain": [
       "Central       20407\n",
       "None          18302\n",
       "Floor/Wall    12438\n",
       "Other           589\n",
       "Name: heating, dtype: int64"
      ]
     },
     "execution_count": 5,
     "metadata": {},
     "output_type": "execute_result"
    }
   ],
   "source": [
    "df.heating.value_counts()"
   ]
  },
  {
   "cell_type": "code",
   "execution_count": 6,
   "metadata": {},
   "outputs": [
    {
     "data": {
      "text/plain": [
       "Central       11444\n",
       "None          10197\n",
       "Floor/Wall     7021\n",
       "Other           309\n",
       "Name: heating, dtype: int64"
      ]
     },
     "execution_count": 6,
     "metadata": {},
     "output_type": "execute_result"
    }
   ],
   "source": [
    "train.heating.value_counts()"
   ]
  },
  {
   "cell_type": "code",
   "execution_count": 7,
   "metadata": {},
   "outputs": [
    {
     "name": "stdout",
     "output_type": "stream",
     "text": [
      "\n",
      " We reject the null Hypothesis ( N̶o̶n̶e̶ ̶a̶s̶ ̶a̶ ̶s̶a̶m̶p̶l̶e̶ ̶h̶a̶s̶ ̶e̶q̶u̶a̶l̶ ̶a̶v̶e̶r̶a̶g̶e̶ ̶v̶a̶l̶u̶e̶s̶ ̶t̶o̶ ̶h̶e̶a̶t̶i̶n̶g̶ ̶a̶s̶ ̶a̶ ̶p̶o̶p̶u̶l̶a̶t̶i̶o̶n̶ ̶r̶e̶g̶a̶r̶d̶i̶n̶g̶ ̶l̶o̶g̶e̶r̶r̶o̶r̶ ) t=4.02012, p=0.00006\n"
     ]
    },
    {
     "data": {
      "image/png": "[encoded data removed]",
      "text/plain": [
       "<Figure size 864x432 with 1 Axes>"
      ]
     },
     "metadata": {
      "needs_background": "light"
     },
     "output_type": "display_data"
    }
   ],
   "source": [
    "## function in module does a 1 sample TTest against the population and \n",
    "## returns the result for Heating(None), plots the feature as sampled\n",
    "explore_zillow.explore_heating(train)"
   ]
  },
  {
   "cell_type": "markdown",
   "metadata": {},
   "source": [
    "> - #### Q2 takeway:\n",
    "> - Whether you have heating or not; does significantly affect LogError, and as such should be considered in Modeling for prediction"
   ]
  },
  {
   "cell_type": "markdown",
   "metadata": {},
   "source": [
    "### Guidance - Clusters\n",
    "Run statistical tests on the clusters to verify if the results of our clustering are signifcant"
   ]
  },
  {
   "cell_type": "code",
   "execution_count": 8,
   "metadata": {},
   "outputs": [
    {
     "data": {
      "text/html": [
       "<div>\n",
       "<style scoped>\n",
       "    .dataframe tbody tr th:only-of-type {\n",
       "        vertical-align: middle;\n",
       "    }\n",
       "\n",
       "    .dataframe tbody tr th {\n",
       "        vertical-align: top;\n",
       "    }\n",
       "\n",
       "    .dataframe thead th {\n",
       "        text-align: right;\n",
       "    }\n",
       "</style>\n",
       "<table border=\"1\" class=\"dataframe\">\n",
       "  <thead>\n",
       "    <tr style=\"text-align: right;\">\n",
       "      <th></th>\n",
       "      <th>variable</th>\n",
       "      <th>p_val</th>\n",
       "    </tr>\n",
       "  </thead>\n",
       "  <tbody>\n",
       "    <tr>\n",
       "      <th>13</th>\n",
       "      <td>cluster house_sizing(1)</td>\n",
       "      <td>4.473734e-09</td>\n",
       "    </tr>\n",
       "    <tr>\n",
       "      <th>2</th>\n",
       "      <td>cluster house_tax(3)</td>\n",
       "      <td>5.027319e-07</td>\n",
       "    </tr>\n",
       "    <tr>\n",
       "      <th>14</th>\n",
       "      <td>cluster house_locale(2)</td>\n",
       "      <td>6.470090e-07</td>\n",
       "    </tr>\n",
       "    <tr>\n",
       "      <th>15</th>\n",
       "      <td>cluster house_locale(3)</td>\n",
       "      <td>2.622301e-06</td>\n",
       "    </tr>\n",
       "    <tr>\n",
       "      <th>8</th>\n",
       "      <td>cluster house_details(2)</td>\n",
       "      <td>7.431146e-05</td>\n",
       "    </tr>\n",
       "  </tbody>\n",
       "</table>\n",
       "</div>"
      ],
      "text/plain": [
       "                    variable         p_val\n",
       "13   cluster house_sizing(1)  4.473734e-09\n",
       "2       cluster house_tax(3)  5.027319e-07\n",
       "14   cluster house_locale(2)  6.470090e-07\n",
       "15   cluster house_locale(3)  2.622301e-06\n",
       "8   cluster house_details(2)  7.431146e-05"
      ]
     },
     "execution_count": 8,
     "metadata": {},
     "output_type": "execute_result"
    }
   ],
   "source": [
    "## function in module does a 1 sample TTest against the population for each cluster\n",
    "## returns the result\n",
    "explore_zillow.score_clusters(train,\"logerror\")[[\"variable\",\"p_val\"]].sort_values(by=[\"p_val\"]).head(5)"
   ]
  },
  {
   "cell_type": "markdown",
   "metadata": {},
   "source": [
    "We have p values low enough to indicate that there may be relationships to investigate"
   ]
  },
  {
   "cell_type": "markdown",
   "metadata": {},
   "source": [
    "### Question 3 -  Does the Cluster group of Home Size have any clusters that are significantly different in relation to logerror?\n",
    "${H_0}$: There is no significant difference in mean LogError of the sample Home Size (Cluster 4) compared to the population  \n",
    "${H_a}$: There is significant difference in mean LogError of the sample Home Size (Cluster 4) compared to the population  \n",
    "${\\alpha}$: .05\n",
    "\n",
    "> Result: There is enough evidence to reject our null hypothesis. **Test code below**"
   ]
  },
  {
   "cell_type": "markdown",
   "metadata": {},
   "source": [
    "function runs a tailored ttest and plots the feature for this question"
   ]
  },
  {
   "cell_type": "code",
   "execution_count": 9,
   "metadata": {},
   "outputs": [
    {
     "name": "stdout",
     "output_type": "stream",
     "text": [
      "\n",
      " We fail to reject the null hypothesis ( 4 as a sample has equal average values to cluster house_sizing as a population regarding logerror ) t=1.64017, p=0.10101\n"
     ]
    },
    {
     "data": {
      "image/png": "[encoded data removed]",
      "text/plain": [
       "<Figure size 864x432 with 1 Axes>"
      ]
     },
     "metadata": {
      "needs_background": "light"
     },
     "output_type": "display_data"
    }
   ],
   "source": [
    "## function tailored for this question. does a sample ttest and returns results with a plot of the feature\n",
    "explore_zillow.explore_house_size_clusters(train)"
   ]
  },
  {
   "cell_type": "markdown",
   "metadata": {},
   "source": [
    "> - #### Q3 takeway:\n",
    "> - The amount of area(sqft), bedrooms, and bathrooms play a role in the ability to predict logerror, with our Cluster 4 being divergent compared to the population"
   ]
  },
  {
   "cell_type": "markdown",
   "metadata": {},
   "source": [
    "### Question 4 -  Does the Cluster group of House Locale have any clusters that are significantly different in relation to logerror?\n",
    "${H_0}$: There is no significant difference in mean LogError of the sample House Locale (Cluster 1) compared to the population  \n",
    "${H_a}$: There is significant difference in mean LogError of the sample House Locale (Cluster 1) compared to the population  \n",
    "${\\alpha}$: .05\n",
    "\n",
    "> Result: There is enough evidence to reject our null hypothesis. **Test code below**"
   ]
  },
  {
   "cell_type": "markdown",
   "metadata": {},
   "source": [
    "function runs a tailored ttest and plots the feature"
   ]
  },
  {
   "cell_type": "code",
   "execution_count": 10,
   "metadata": {},
   "outputs": [
    {
     "name": "stdout",
     "output_type": "stream",
     "text": [
      "\n",
      " We reject the null Hypothesis ( 1̶ ̶a̶s̶ ̶a̶ ̶s̶a̶m̶p̶l̶e̶ ̶h̶a̶s̶ ̶e̶q̶u̶a̶l̶ ̶a̶v̶e̶r̶a̶g̶e̶ ̶v̶a̶l̶u̶e̶s̶ ̶t̶o̶ ̶c̶l̶u̶s̶t̶e̶r̶ ̶h̶o̶u̶s̶e̶_̶l̶o̶c̶a̶l̶e̶ ̶a̶s̶ ̶a̶ ̶p̶o̶p̶u̶l̶a̶t̶i̶o̶n̶ ̶r̶e̶g̶a̶r̶d̶i̶n̶g̶ ̶l̶o̶g̶e̶r̶r̶o̶r̶ ) t=2.11528, p=0.03443\n"
     ]
    },
    {
     "data": {
      "image/png": "[encoded data removed]",
      "text/plain": [
       "<Figure size 864x432 with 1 Axes>"
      ]
     },
     "metadata": {
      "needs_background": "light"
     },
     "output_type": "display_data"
    }
   ],
   "source": [
    "## function tailored for this question. does a sample ttest and returns results with a plot of the feature\n",
    "explore_zillow.explore_house_locale_cluster(train)"
   ]
  },
  {
   "cell_type": "markdown",
   "metadata": {},
   "source": [
    "> - #### Q4 takeway:\n",
    "> - The amount of location (lat and long), and age play a role in the ability to predict logerror, with our Cluster 1 being divergent compared to the population"
   ]
  },
  {
   "cell_type": "markdown",
   "metadata": {},
   "source": [
    "> - ## Exploration Takeaways\n",
    "> - A combination of features and clusters will likely give us the best result to predict log error\n",
    "> - These features may include: Area, Heating, Cluster of Home Size -Area(sqft), Bedroom, Bathroom, Location, and age will all prove to have a level of significance in helping predict our target variable of log error in our modeling"
   ]
  },
  {
   "cell_type": "markdown",
   "metadata": {},
   "source": [
    "# Modeling"
   ]
  },
  {
   "cell_type": "code",
   "execution_count": 11,
   "metadata": {},
   "outputs": [
    {
     "ename": "NameError",
     "evalue": "name 'modeling_prep' is not defined",
     "output_type": "error",
     "traceback": [
      "\u001b[0;31m---------------------------------------------------------------------------\u001b[0m",
      "\u001b[0;31mNameError\u001b[0m                                 Traceback (most recent call last)",
      "\u001b[1;32m/Users/geary.shenck/codeup-data-science/Zillow_Cluster_Regression/Final Report.ipynb Cell 36\u001b[0m in \u001b[0;36m<cell line: 2>\u001b[0;34m()\u001b[0m\n\u001b[1;32m      <a href='vscode-notebook-cell:/Users/geary.shenck/codeup-data-science/Zillow_Cluster_Regression/Final%20Report.ipynb#X43sZmlsZQ%3D%3D?line=0'>1</a>\u001b[0m \u001b[39m#call modeling preparation function to acquire train/validate/test subsets\u001b[39;00m\n\u001b[0;32m----> <a href='vscode-notebook-cell:/Users/geary.shenck/codeup-data-science/Zillow_Cluster_Regression/Final%20Report.ipynb#X43sZmlsZQ%3D%3D?line=1'>2</a>\u001b[0m X_train, y_train, X_val, y_val, X_test, y_test \u001b[39m=\u001b[39m modeling_prep(train, train_scaled, validate, validate_scaled, test, test_scaled)\n",
      "\u001b[0;31mNameError\u001b[0m: name 'modeling_prep' is not defined"
     ]
    }
   ],
   "source": [
    "#call modeling preparation function to acquire train/validate/test subsets\n",
    "X_train, y_train, X_val, y_val, X_test, y_test = modeling_prep(train, train_scaled, validate, validate_scaled, test, test_scaled)"
   ]
  },
  {
   "cell_type": "code",
   "execution_count": null,
   "metadata": {},
   "outputs": [],
   "source": [
    "#model and score various functions and find list of best three performing\n",
    "top_three = train_score(X_train, y_train).sort_values(by='r^2 score', ascending=False).head(3)"
   ]
  },
  {
   "cell_type": "code",
   "execution_count": null,
   "metadata": {},
   "outputs": [
    {
     "data": {
      "text/html": [
       "<div>\n",
       "<style scoped>\n",
       "    .dataframe tbody tr th:only-of-type {\n",
       "        vertical-align: middle;\n",
       "    }\n",
       "\n",
       "    .dataframe tbody tr th {\n",
       "        vertical-align: top;\n",
       "    }\n",
       "\n",
       "    .dataframe thead th {\n",
       "        text-align: right;\n",
       "    }\n",
       "</style>\n",
       "<table border=\"1\" class=\"dataframe\">\n",
       "  <thead>\n",
       "    <tr style=\"text-align: right;\">\n",
       "      <th></th>\n",
       "      <th>RMSE</th>\n",
       "      <th>r^2 score</th>\n",
       "      <th>Features</th>\n",
       "      <th>Parameters</th>\n",
       "    </tr>\n",
       "    <tr>\n",
       "      <th>Name</th>\n",
       "      <th></th>\n",
       "      <th></th>\n",
       "      <th></th>\n",
       "      <th></th>\n",
       "    </tr>\n",
       "  </thead>\n",
       "  <tbody>\n",
       "    <tr>\n",
       "      <th>Polynomial_2</th>\n",
       "      <td>174798.934506</td>\n",
       "      <td>0.55</td>\n",
       "      <td>[bedrooms, bathrooms, area, home_age, est_tax_...</td>\n",
       "      <td>Degree: 3</td>\n",
       "    </tr>\n",
       "    <tr>\n",
       "      <th>Polynomial_12</th>\n",
       "      <td>180705.049991</td>\n",
       "      <td>0.51</td>\n",
       "      <td>[est_tax_rate, area, bathrooms, home_age, coun...</td>\n",
       "      <td>Degree: 3</td>\n",
       "    </tr>\n",
       "    <tr>\n",
       "      <th>Polynomial_10</th>\n",
       "      <td>181140.596244</td>\n",
       "      <td>0.51</td>\n",
       "      <td>[est_tax_rate, area, home_age, county_Orange C...</td>\n",
       "      <td>Degree: 3</td>\n",
       "    </tr>\n",
       "  </tbody>\n",
       "</table>\n",
       "</div>"
      ],
      "text/plain": [
       "                        RMSE  r^2 score  \\\n",
       "Name                                      \n",
       "Polynomial_2   174798.934506       0.55   \n",
       "Polynomial_12  180705.049991       0.51   \n",
       "Polynomial_10  181140.596244       0.51   \n",
       "\n",
       "                                                        Features Parameters  \n",
       "Name                                                                         \n",
       "Polynomial_2   [bedrooms, bathrooms, area, home_age, est_tax_...  Degree: 3  \n",
       "Polynomial_12  [est_tax_rate, area, bathrooms, home_age, coun...  Degree: 3  \n",
       "Polynomial_10  [est_tax_rate, area, home_age, county_Orange C...  Degree: 3  "
      ]
     },
     "execution_count": 17,
     "metadata": {},
     "output_type": "execute_result"
    }
   ],
   "source": [
    "top_three"
   ]
  },
  {
   "cell_type": "markdown",
   "metadata": {},
   "source": [
    "## Three Best Models ran on Validation Set\n",
    "* Polynomials 2 \n",
    "    - Degrees: 3\n",
    "    - Features: All\n",
    "* Polynomial 12\n",
    "    - Degrees: 3\n",
    "    - Fetures: estimated tax rate, area, home age, and county\n",
    "* Polynomial 10\n",
    "    - Degrees: 3\n",
    "    - Features: estimated tax rate, area, bathrooms, home age, and county\n"
   ]
  },
  {
   "cell_type": "code",
   "execution_count": null,
   "metadata": {},
   "outputs": [
    {
     "name": "stdout",
     "output_type": "stream",
     "text": [
      "           Name                 RMSE  \\\n",
      "0  Polynomial_1  58279225909394752.0   \n",
      "0  Polynomial_2        182327.056692   \n",
      "0  Polynomial_3        182006.080466   \n",
      "\n",
      "                                            Features Parameters  \n",
      "0  [bedrooms, bathrooms, area, home_age, est_tax_...  Degree: 3  \n",
      "0  [est_tax_rate, area, home_age, county_Orange C...  Degree: 3  \n",
      "0  [est_tax_rate, area, bathrooms, home_age, coun...  Degree: 3  \n"
     ]
    }
   ],
   "source": [
    "#create lists of features\n",
    "all_features = list(X_train.columns)\n",
    "\n",
    "feat_set3 = ['est_tax_rate', 'area', 'home_age', 'county_Orange County', 'county_Ventura County']\n",
    "\n",
    "feat_set4 = ['est_tax_rate', 'area', 'bathrooms', 'home_age', 'county_Orange County', 'county_Ventura County']\n",
    "\n",
    "#select features and degree level for model testing on validation set\n",
    "val_selectors = [(all_features, 3), (feat_set3, 3), (feat_set4, 3)]\n",
    "\n",
    "#call pf function to get predictions for the Polynomial models and add to the dataframe\n",
    "print(pf_mod(X_val, y_val, val_selectors, X_train, y_train))\n",
    "\n",
    "#create dataframe to hold model scores\n",
    "validate_scores = pd.DataFrame({}, columns=['Model', 'r^2 Score'])\n",
    "\n",
    "for idx, model in enumerate(y_val.drop(columns='home_value').columns):\n",
    "    score = explained_variance_score(y_val['home_value'], y_val[model])\n",
    "    validate_scores.loc[idx] = [model, score]"
   ]
  },
  {
   "cell_type": "code",
   "execution_count": null,
   "metadata": {},
   "outputs": [],
   "source": [
    "validate_scores['r^2 Score'] = validate_scores['r^2 Score'].astype('float64')"
   ]
  },
  {
   "cell_type": "code",
   "execution_count": null,
   "metadata": {},
   "outputs": [],
   "source": [
    "for idx in validate_scores.index:\n",
    "     if validate_scores.loc[idx, 'Model'] == 'Polynomial_1':\n",
    "          validate_scores.loc[idx, 'Model'] = 'Polynomial_2'\n",
    "     elif validate_scores.loc[idx, 'Model'] == 'Polynomial_2':\n",
    "          validate_scores.loc[idx, 'Model'] = 'Polynomial_12'\n",
    "     elif validate_scores.loc[idx, 'Model'] == 'Polynomial_3':\n",
    "          validate_scores.loc[idx, 'Model'] = 'Polynomial_10'"
   ]
  },
  {
   "cell_type": "code",
   "execution_count": null,
   "metadata": {},
   "outputs": [
    {
     "data": {
      "text/html": [
       "<div>\n",
       "<style scoped>\n",
       "    .dataframe tbody tr th:only-of-type {\n",
       "        vertical-align: middle;\n",
       "    }\n",
       "\n",
       "    .dataframe tbody tr th {\n",
       "        vertical-align: top;\n",
       "    }\n",
       "\n",
       "    .dataframe thead th {\n",
       "        text-align: right;\n",
       "    }\n",
       "</style>\n",
       "<table border=\"1\" class=\"dataframe\">\n",
       "  <thead>\n",
       "    <tr style=\"text-align: right;\">\n",
       "      <th></th>\n",
       "      <th>Model</th>\n",
       "      <th>r^2 Score</th>\n",
       "    </tr>\n",
       "  </thead>\n",
       "  <tbody>\n",
       "    <tr>\n",
       "      <th>0</th>\n",
       "      <td>pred_median</td>\n",
       "      <td>0.000000e+00</td>\n",
       "    </tr>\n",
       "    <tr>\n",
       "      <th>1</th>\n",
       "      <td>Polynomial_2</td>\n",
       "      <td>-4.966612e+22</td>\n",
       "    </tr>\n",
       "    <tr>\n",
       "      <th>2</th>\n",
       "      <td>Polynomial_12</td>\n",
       "      <td>5.100000e-01</td>\n",
       "    </tr>\n",
       "    <tr>\n",
       "      <th>3</th>\n",
       "      <td>Polynomial_10</td>\n",
       "      <td>5.200000e-01</td>\n",
       "    </tr>\n",
       "  </tbody>\n",
       "</table>\n",
       "</div>"
      ],
      "text/plain": [
       "           Model     r^2 Score\n",
       "0    pred_median  0.000000e+00\n",
       "1   Polynomial_2 -4.966612e+22\n",
       "2  Polynomial_12  5.100000e-01\n",
       "3  Polynomial_10  5.200000e-01"
      ]
     },
     "execution_count": 21,
     "metadata": {},
     "output_type": "execute_result"
    }
   ],
   "source": [
    "\n",
    "round(validate_scores, 2)\n"
   ]
  },
  {
   "cell_type": "markdown",
   "metadata": {},
   "source": [
    "## Test\n",
    "* Polynomial 10\n",
    "    - Degrees: 3\n",
    "    - Features: estimated tax rate, area, bathrooms, home age, and county"
   ]
  },
  {
   "cell_type": "markdown",
   "metadata": {},
   "source": [
    " ### Model Code       \n",
    "        pf_descriptions = pd.DataFrame({}, columns=['Name','RMSE', 'Features', 'Parameters'])\n",
    "\n",
    "        for idx, combo in enumerate(selectors):\n",
    "            pf = PolynomialFeatures(degree=combo[1])\n",
    "\n",
    "            lm = LinearRegression(normalize=True)\n",
    "\n",
    "            if fit_train is not None:\n",
    "                fit_pf = pf.fit_transform(fit_train[combo[0]])\n",
    "                X_pf = pf.transform(X[combo[0]])  \n",
    "                lm.fit(fit_pf, fit_y_train.home_value)\n",
    "            else:\n",
    "                X_pf = pf.fit_transform(X[combo[0]])\n",
    "                lm.fit(X_pf, y.home_value)\n",
    "\n",
    "            model_label = f'Polynomial_{idx+1}'\n",
    "\n",
    "            #predict train\n",
    "            y[model_label] = lm.predict(X_pf) \n",
    "\n",
    "            #calculate train rmse\n",
    "            rmse = mean_squared_error(y.home_value, y[model_label], squared=False)\n",
    "\n",
    "            # print(f'{model_label} with degree: {combo[1]} \\n\\\n",
    "            #     Features: {combo[0]} \\n\\\n",
    "            #     RMSE: {rmse}\\n')\n",
    "            \n",
    "            description = pd.DataFrame([[model_label, rmse, combo[0], f'Degree: {combo[1]}']], columns=['Name', 'RMSE', 'Features', 'Parameters'])\n",
    "            pf_descriptions = pd.concat([pf_descriptions, description])\n",
    "\n",
    "        return pf_descriptions"
   ]
  },
  {
   "cell_type": "code",
   "execution_count": null,
   "metadata": {},
   "outputs": [
    {
     "data": {
      "text/html": [
       "<div>\n",
       "<style scoped>\n",
       "    .dataframe tbody tr th:only-of-type {\n",
       "        vertical-align: middle;\n",
       "    }\n",
       "\n",
       "    .dataframe tbody tr th {\n",
       "        vertical-align: top;\n",
       "    }\n",
       "\n",
       "    .dataframe thead th {\n",
       "        text-align: right;\n",
       "    }\n",
       "</style>\n",
       "<table border=\"1\" class=\"dataframe\">\n",
       "  <thead>\n",
       "    <tr style=\"text-align: right;\">\n",
       "      <th></th>\n",
       "      <th>Name</th>\n",
       "      <th>RMSE</th>\n",
       "      <th>Features</th>\n",
       "      <th>Parameters</th>\n",
       "    </tr>\n",
       "  </thead>\n",
       "  <tbody>\n",
       "    <tr>\n",
       "      <th>0</th>\n",
       "      <td>Polynomial_1</td>\n",
       "      <td>454892.9766</td>\n",
       "      <td>[est_tax_rate, area, bathrooms, home_age, coun...</td>\n",
       "      <td>Degree: 3</td>\n",
       "    </tr>\n",
       "  </tbody>\n",
       "</table>\n",
       "</div>"
      ],
      "text/plain": [
       "           Name         RMSE  \\\n",
       "0  Polynomial_1  454892.9766   \n",
       "\n",
       "                                            Features Parameters  \n",
       "0  [est_tax_rate, area, bathrooms, home_age, coun...  Degree: 3  "
      ]
     },
     "execution_count": 22,
     "metadata": {},
     "output_type": "execute_result"
    }
   ],
   "source": [
    "#select features and degree level for model testing on test set\n",
    "test_selectors = [(feat_set4, 3)]\n",
    "\n",
    "#run function to use model to on test set\n",
    "pf_mod(X_test, y_test, test_selectors, X_train, y_train)"
   ]
  },
  {
   "cell_type": "code",
   "execution_count": null,
   "metadata": {},
   "outputs": [],
   "source": [
    "#create dataframe to hold model scores\n",
    "test_scores = pd.DataFrame({}, columns=['Model', 'r^2 Score'])\n",
    "\n",
    "for idx, model in enumerate(y_test.drop(columns='home_value').columns):\n",
    "    score = explained_variance_score(y_test['home_value'], y_test[model])\n",
    "    test_scores.loc[idx] = [model, score]\n",
    "\n",
    "test_score = explained_variance_score(y_test['home_value'], y_test[model])\n"
   ]
  },
  {
   "cell_type": "code",
   "execution_count": null,
   "metadata": {},
   "outputs": [
    {
     "data": {
      "text/plain": [
       "-782631831999.6567"
      ]
     },
     "execution_count": 24,
     "metadata": {},
     "output_type": "execute_result"
    }
   ],
   "source": [
    "test_score"
   ]
  },
  {
   "cell_type": "markdown",
   "metadata": {},
   "source": [
    "# Conclusion"
   ]
  },
  {
   "cell_type": "markdown",
   "metadata": {},
   "source": [
    "## Summary of Key Findings\n",
    "* Bedrooms, bathrooms, home_size/area and lower age support higher home values\n",
    "* Large numbers of homes in LA County \n",
    "* Estimated Tax rate has negative correlation with home value"
   ]
  },
  {
   "cell_type": "markdown",
   "metadata": {},
   "source": [
    "## Suggestions and Next Steps\n",
    "* No suggestions this time as the model does not beat baseline predictions\n",
    "* Take a look at adding distance relationships\n",
    "    - Distance from: water, schools, parks, etc. \n",
    "* Explore garages and other add-on data such as pools\n",
    "    - Be willing to impute more data\n",
    "* Investigate walk/bike/transit scores\n",
    "* May consider creating county specific models\n",
    "* Take steps to correct or add null/missing data from properties"
   ]
  },
  {
   "cell_type": "code",
   "execution_count": null,
   "metadata": {},
   "outputs": [
    {
     "ename": "AttributeError",
     "evalue": "'DataFrame' object has no attribute 'area'",
     "output_type": "error",
     "traceback": [
      "\u001b[0;31m---------------------------------------------------------------------------\u001b[0m",
      "\u001b[0;31mAttributeError\u001b[0m                            Traceback (most recent call last)",
      "\u001b[1;32m/Users/sinao/codeup-data-science/Zillow_Cluster_Regression/Final Report.ipynb Cell 48\u001b[0m in \u001b[0;36m<cell line: 1>\u001b[0;34m()\u001b[0m\n\u001b[0;32m----> <a href='vscode-notebook-cell:/Users/sinao/codeup-data-science/Zillow_Cluster_Regression/Final%20Report.ipynb#X65sZmlsZQ%3D%3D?line=0'>1</a>\u001b[0m df, train, validate, test, train_scaled, validate_scaled, test_scaled \u001b[39m=\u001b[39m wrangle_zillow\u001b[39m.\u001b[39;49mwrangle_zillow()\n",
      "File \u001b[0;32m~/codeup-data-science/Zillow_Cluster_Regression/wrangle_zillow.py:251\u001b[0m, in \u001b[0;36mwrangle_zillow\u001b[0;34m()\u001b[0m\n\u001b[1;32m    245\u001b[0m df \u001b[39m=\u001b[39m get_zillow_data()\n\u001b[1;32m    247\u001b[0m \u001b[39m# handle the missing data --> decisions made in advance\u001b[39;00m\n\u001b[1;32m    248\u001b[0m \u001b[39m# df = handle_missing_values(df, prop_required_columns=0.64)\u001b[39;00m\n\u001b[1;32m    249\u001b[0m \n\u001b[1;32m    250\u001b[0m \u001b[39m#drop columns that are unneeded, split data\u001b[39;00m\n\u001b[0;32m--> 251\u001b[0m df, train, validate, test, train_scaled, validate_scaled, test_scaled \u001b[39m=\u001b[39m prep_zillow(df)\n\u001b[1;32m    253\u001b[0m \u001b[39m#summarize the data\u001b[39;00m\n\u001b[1;32m    254\u001b[0m summarize(df)\n",
      "File \u001b[0;32m~/codeup-data-science/Zillow_Cluster_Regression/wrangle_zillow.py:192\u001b[0m, in \u001b[0;36mprep_zillow\u001b[0;34m(df)\u001b[0m\n\u001b[1;32m    182\u001b[0m \u001b[39mdef\u001b[39;00m \u001b[39mprep_zillow\u001b[39m (df):\n\u001b[1;32m    183\u001b[0m     \u001b[39m\"\"\" \u001b[39;00m\n\u001b[1;32m    184\u001b[0m \u001b[39m    Purpose\u001b[39;00m\n\u001b[1;32m    185\u001b[0m \u001b[39m        Perform preparation functions on the zillow dataset\u001b[39;00m\n\u001b[0;32m   (...)\u001b[0m\n\u001b[1;32m    189\u001b[0m \u001b[39m        df: the unsplit and unscaled data with removed columns\u001b[39;00m\n\u001b[1;32m    190\u001b[0m \u001b[39m    \"\"\"\u001b[39;00m\n\u001b[0;32m--> 192\u001b[0m     df \u001b[39m=\u001b[39m engineer_features(df)\n\u001b[1;32m    194\u001b[0m     df \u001b[39m=\u001b[39m df\u001b[39m.\u001b[39mdrop(columns\u001b[39m=\u001b[39m[\u001b[39m'\u001b[39m\u001b[39mparcelid\u001b[39m\u001b[39m'\u001b[39m, \u001b[39m'\u001b[39m\u001b[39mbuildingqualitytypeid\u001b[39m\u001b[39m'\u001b[39m,\u001b[39m'\u001b[39m\u001b[39mcensustractandblock\u001b[39m\u001b[39m'\u001b[39m, \u001b[39m'\u001b[39m\u001b[39mcalculatedbathnbr\u001b[39m\u001b[39m'\u001b[39m\n\u001b[1;32m    195\u001b[0m                         \u001b[39m'\u001b[39m\u001b[39mheatingorsystemtypeid\u001b[39m\u001b[39m'\u001b[39m, \u001b[39m'\u001b[39m\u001b[39mpropertylandusetypeid\u001b[39m\u001b[39m'\u001b[39m, \u001b[39m'\u001b[39m\u001b[39myearbuilt\u001b[39m\u001b[39m'\u001b[39m, \n\u001b[1;32m    196\u001b[0m                         \u001b[39m'\u001b[39m\u001b[39mrawcensustractandblock\u001b[39m\u001b[39m'\u001b[39m, \u001b[39m'\u001b[39m\u001b[39mlanduse\u001b[39m\u001b[39m'\u001b[39m, \u001b[39m'\u001b[39m\u001b[39mfullbathcnt\u001b[39m\u001b[39m'\u001b[39m, \u001b[39m'\u001b[39m\u001b[39mfinishedsquarefeet12\u001b[39m\u001b[39m'\u001b[39m\n\u001b[1;32m    197\u001b[0m                         \u001b[39m'\u001b[39m\u001b[39massessmentyear\u001b[39m\u001b[39m'\u001b[39m, \u001b[39m'\u001b[39m\u001b[39mregionidcounty\u001b[39m\u001b[39m'\u001b[39m,\u001b[39m'\u001b[39m\u001b[39mregionidzip\u001b[39m\u001b[39m'\u001b[39m, \u001b[39m'\u001b[39m\u001b[39mregionidcity\u001b[39m\u001b[39m'\u001b[39m])\n\u001b[1;32m    198\u001b[0m     df \u001b[39m=\u001b[39m df\u001b[39m.\u001b[39mset_index(\u001b[39m'\u001b[39m\u001b[39mid\u001b[39m\u001b[39m'\u001b[39m)\n",
      "File \u001b[0;32m~/codeup-data-science/Zillow_Cluster_Regression/wrangle_zillow.py:106\u001b[0m, in \u001b[0;36mengineer_features\u001b[0;34m(df)\u001b[0m\n\u001b[1;32m     93\u001b[0m df[\u001b[39m'\u001b[39m\u001b[39mlogerror_bin\u001b[39m\u001b[39m'\u001b[39m] \u001b[39m=\u001b[39m pd\u001b[39m.\u001b[39mcut(df\u001b[39m.\u001b[39mlogerror,[\u001b[39m-\u001b[39m\u001b[39m6\u001b[39m, df\u001b[39m.\u001b[39mlogerror\u001b[39m.\u001b[39mmean() \u001b[39m-\u001b[39m df\u001b[39m.\u001b[39mlogerror\u001b[39m.\u001b[39mstd(), \n\u001b[1;32m     94\u001b[0m                         df\u001b[39m.\u001b[39mlogerror\u001b[39m.\u001b[39mmean() \u001b[39m+\u001b[39m df\u001b[39m.\u001b[39mlogerror\u001b[39m.\u001b[39mstd(), \u001b[39m10\u001b[39m],labels\u001b[39m=\u001b[39m[\u001b[39m'\u001b[39m\u001b[39m<-1sig\u001b[39m\u001b[39m'\u001b[39m,\u001b[39m'\u001b[39m\u001b[39m-1sig~1sig\u001b[39m\u001b[39m'\u001b[39m,\u001b[39m'\u001b[39m\u001b[39m>1sig\u001b[39m\u001b[39m'\u001b[39m])\n\u001b[1;32m     96\u001b[0m \u001b[39m# #### Decades: \u001b[39;00m\n\u001b[1;32m     97\u001b[0m \u001b[39m# #create list to hold labels for decades\u001b[39;00m\n\u001b[1;32m     98\u001b[0m \u001b[39m# decade_labels = [x + 's' for x in np.arange(1870, 2030, 10)[:-1].astype('str')]\u001b[39;00m\n\u001b[0;32m   (...)\u001b[0m\n\u001b[1;32m    104\u001b[0m \u001b[39m#### Home Size\u001b[39;00m\n\u001b[1;32m    105\u001b[0m \u001b[39m#use quantiles to calculate subgroups and assign to new column\u001b[39;00m\n\u001b[0;32m--> 106\u001b[0m q1, q3 \u001b[39m=\u001b[39m df\u001b[39m.\u001b[39;49marea\u001b[39m.\u001b[39mquantile([\u001b[39m.25\u001b[39m, \u001b[39m.75\u001b[39m])\n\u001b[1;32m    107\u001b[0m df[\u001b[39m'\u001b[39m\u001b[39mhome_size\u001b[39m\u001b[39m'\u001b[39m] \u001b[39m=\u001b[39m pd\u001b[39m.\u001b[39mcut(df\u001b[39m.\u001b[39marea, [\u001b[39m0\u001b[39m,q1,q3, df\u001b[39m.\u001b[39marea\u001b[39m.\u001b[39mmax()], labels\u001b[39m=\u001b[39m[\u001b[39m'\u001b[39m\u001b[39msmall\u001b[39m\u001b[39m'\u001b[39m, \u001b[39m'\u001b[39m\u001b[39mmedium\u001b[39m\u001b[39m'\u001b[39m, \u001b[39m'\u001b[39m\u001b[39mlarge\u001b[39m\u001b[39m'\u001b[39m], right\u001b[39m=\u001b[39m\u001b[39mTrue\u001b[39;00m)\n\u001b[1;32m    109\u001b[0m \u001b[39m#### Estimated Tax Rate\u001b[39;00m\n",
      "File \u001b[0;32m/opt/homebrew/anaconda3/lib/python3.9/site-packages/pandas/core/generic.py:5575\u001b[0m, in \u001b[0;36mNDFrame.__getattr__\u001b[0;34m(self, name)\u001b[0m\n\u001b[1;32m   5568\u001b[0m \u001b[39mif\u001b[39;00m (\n\u001b[1;32m   5569\u001b[0m     name \u001b[39mnot\u001b[39;00m \u001b[39min\u001b[39;00m \u001b[39mself\u001b[39m\u001b[39m.\u001b[39m_internal_names_set\n\u001b[1;32m   5570\u001b[0m     \u001b[39mand\u001b[39;00m name \u001b[39mnot\u001b[39;00m \u001b[39min\u001b[39;00m \u001b[39mself\u001b[39m\u001b[39m.\u001b[39m_metadata\n\u001b[1;32m   5571\u001b[0m     \u001b[39mand\u001b[39;00m name \u001b[39mnot\u001b[39;00m \u001b[39min\u001b[39;00m \u001b[39mself\u001b[39m\u001b[39m.\u001b[39m_accessors\n\u001b[1;32m   5572\u001b[0m     \u001b[39mand\u001b[39;00m \u001b[39mself\u001b[39m\u001b[39m.\u001b[39m_info_axis\u001b[39m.\u001b[39m_can_hold_identifiers_and_holds_name(name)\n\u001b[1;32m   5573\u001b[0m ):\n\u001b[1;32m   5574\u001b[0m     \u001b[39mreturn\u001b[39;00m \u001b[39mself\u001b[39m[name]\n\u001b[0;32m-> 5575\u001b[0m \u001b[39mreturn\u001b[39;00m \u001b[39mobject\u001b[39;49m\u001b[39m.\u001b[39;49m\u001b[39m__getattribute__\u001b[39;49m(\u001b[39mself\u001b[39;49m, name)\n",
      "\u001b[0;31mAttributeError\u001b[0m: 'DataFrame' object has no attribute 'area'"
     ]
    }
   ],
   "source": [
    "df, train, validate, test, train_scaled, validate_scaled, test_scaled = wrangle_zillow.wrangle_zillow()"
   ]
  }
 ],
 "metadata": {
  "kernelspec": {
   "display_name": "Python 3.9.12 ('base')",
   "language": "python",
   "name": "python3"
  },
  "language_info": {
   "codemirror_mode": {
    "name": "ipython",
    "version": 3
   },
   "file_extension": ".py",
   "mimetype": "text/x-python",
   "name": "python",
   "nbconvert_exporter": "python",
   "pygments_lexer": "ipython3",
   "version": "3.9.12"
  },
  "orig_nbformat": 4,
  "vscode": {
   "interpreter": {
    "hash": "3067ead486e059ec00ffe7555bdb889e6e264a24dc711bf108106cc7baee8d5d"
   }
  }
 },
 "nbformat": 4,
 "nbformat_minor": 2
}
